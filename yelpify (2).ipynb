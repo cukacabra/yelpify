{
 "cells": [
  {
   "cell_type": "code",
   "execution_count": 1,
   "id": "05323526",
   "metadata": {},
   "outputs": [
    {
     "data": {
      "text/plain": [
       "<bound method NDFrame.describe of                   business_id  stars  useful  funny  cool  \\\n",
       "0      drTZrkbpSoJgwKETlFbc3w    1.0       0      0     0   \n",
       "1      jyxHti29yWdYR00Itt1A2w    5.0       0      0     0   \n",
       "2      Jo4ei-c-5H53IxZxAVf1jQ    5.0       0      0     0   \n",
       "3      YT5CjacTllBtvMaMJS3IbA    1.0       0      0     0   \n",
       "4      9MHe5jAym2d8VhT_NbCRyw    2.0       0      0     0   \n",
       "...                       ...    ...     ...    ...   ...   \n",
       "31660  uMVOtr16r1ELu46pWr4HCQ    1.0       0      0     0   \n",
       "31661  58MJvmfo5hyfBbvkr54sFA    5.0       1      0     0   \n",
       "31662  e_E-jq9mwm7wk75k7Yi-Xw    5.0       1      0     1   \n",
       "31663  6WaI-IN8ql0xpEKlb4q8tg    5.0       1      0     0   \n",
       "31664  Rr9kKArrMhSLVE9a53q-aA    5.0       1      0     0   \n",
       "\n",
       "                                                    text                date  \n",
       "0      I bought a Fender 1966 Telecaster that the sal... 2022-01-01 15:47:07  \n",
       "1      This is our go to for take out when I visit my... 2022-01-02 03:49:01  \n",
       "2      Danielle did a great job!  She listened and cu... 2022-01-03 03:17:03  \n",
       "3      We saw a lot of roaches in the bathroom when w... 2022-01-05 15:55:59  \n",
       "4      We  Ordered pork fried rice and beef chow mei ... 2022-01-06 03:59:21  \n",
       "...                                                  ...                 ...  \n",
       "31660  Just average Thai food tonight. Bangkok has al... 2022-01-18 06:42:59  \n",
       "31661  Great gym.  Was in Indy for 4 days on business... 2022-01-18 15:24:44  \n",
       "31662  It is very rare for a restaurant to be this go... 2022-01-17 22:36:01  \n",
       "31663  We redesigned my moms dress and mad it complet... 2022-01-17 20:59:01  \n",
       "31664  For when I'm feeling like ignoring my calorie-... 2022-01-19 18:59:27  \n",
       "\n",
       "[31665 rows x 7 columns]>"
      ]
     },
     "execution_count": 1,
     "metadata": {},
     "output_type": "execute_result"
    }
   ],
   "source": [
    "import numpy as np\n",
    "import pandas as pd\n",
    "yelp_reviews = []\n",
    "r_dtypes = {\"stars\": np.float16, \n",
    "            \"useful\": np.int32, \n",
    "            \"funny\": np.int32,\n",
    "            \"cool\": np.int32,\n",
    "           }\n",
    "with open(\"yelp_academic_dataset_review.json\", \"r\", encoding='utf8') as f:\n",
    "    reader = pd.read_json(f, orient=\"records\", lines=True, \n",
    "                          dtype=r_dtypes, chunksize=1000)\n",
    "        \n",
    "    for chunk in reader:\n",
    "        reduced_chunk = chunk.drop(columns=['review_id', 'user_id'])\\\n",
    "                             .query(\"`date` >= '2022-01-01'\")\n",
    "        yelp_reviews.append(reduced_chunk)\n",
    "    \n",
    "yelp_reviews = pd.concat(yelp_reviews, ignore_index=True)\n",
    "yelp_reviews.describe #80k rows for 12/1/21; 31665  for 2022-01-01"
   ]
  },
  {
   "cell_type": "code",
   "execution_count": 17,
   "id": "9c55fa26",
   "metadata": {},
   "outputs": [
    {
     "data": {
      "text/plain": [
       "<bound method NDFrame.describe of                   business_id  stars  useful  funny  cool  \\\n",
       "0      drTZrkbpSoJgwKETlFbc3w    1.0       0      0     0   \n",
       "1      jyxHti29yWdYR00Itt1A2w    5.0       0      0     0   \n",
       "2      Jo4ei-c-5H53IxZxAVf1jQ    5.0       0      0     0   \n",
       "3      YT5CjacTllBtvMaMJS3IbA    1.0       0      0     0   \n",
       "4      9MHe5jAym2d8VhT_NbCRyw    2.0       0      0     0   \n",
       "...                       ...    ...     ...    ...   ...   \n",
       "31660  uMVOtr16r1ELu46pWr4HCQ    1.0       0      0     0   \n",
       "31661  58MJvmfo5hyfBbvkr54sFA    5.0       1      0     0   \n",
       "31662  e_E-jq9mwm7wk75k7Yi-Xw    5.0       1      0     1   \n",
       "31663  6WaI-IN8ql0xpEKlb4q8tg    5.0       1      0     0   \n",
       "31664  Rr9kKArrMhSLVE9a53q-aA    5.0       1      0     0   \n",
       "\n",
       "                                                    text                date  \n",
       "0      I bought a Fender 1966 Telecaster that the sal... 2022-01-01 15:47:07  \n",
       "1      This is our go to for take out when I visit my... 2022-01-02 03:49:01  \n",
       "2      Danielle did a great job!  She listened and cu... 2022-01-03 03:17:03  \n",
       "3      We saw a lot of roaches in the bathroom when w... 2022-01-05 15:55:59  \n",
       "4      We  Ordered pork fried rice and beef chow mei ... 2022-01-06 03:59:21  \n",
       "...                                                  ...                 ...  \n",
       "31660  Just average Thai food tonight. Bangkok has al... 2022-01-18 06:42:59  \n",
       "31661  Great gym.  Was in Indy for 4 days on business... 2022-01-18 15:24:44  \n",
       "31662  It is very rare for a restaurant to be this go... 2022-01-17 22:36:01  \n",
       "31663  We redesigned my moms dress and mad it complet... 2022-01-17 20:59:01  \n",
       "31664  For when I'm feeling like ignoring my calorie-... 2022-01-19 18:59:27  \n",
       "\n",
       "[31665 rows x 7 columns]>"
      ]
     },
     "execution_count": 17,
     "metadata": {},
     "output_type": "execute_result"
    }
   ],
   "source": [
    "yelp_reviews.describe"
   ]
  },
  {
   "cell_type": "code",
   "execution_count": 2,
   "id": "eca1044b",
   "metadata": {},
   "outputs": [
    {
     "data": {
      "text/plain": [
       "<bound method NDFrame.describe of                business_id                                         name  \\\n",
       "0   Yoy4h6G8S2F0_3-WvS8y1A                               Arrow Electric   \n",
       "1   zgiGbGRLyj5QpoqsmDZzIg                        Berwyn shower & Glass   \n",
       "2   1JQT4aQUBo-syiuAFdNhig                     Hammers Moving & Storage   \n",
       "3   TfCsha7GyoEcadVcvHvG-A                  Greater Nevada Tree Service   \n",
       "4   TUU1mt51yasYH0QYwzKTEg                 Pachamama Rotisserie Chicken   \n",
       "5   nV1JfHM2QQphifQzSSAaJQ                        Ashe Couture Boutique   \n",
       "6   r54l8oG6Ev_qAcmGkSOtdw        Fair Tech Mobile Car And Truck Repair   \n",
       "7   S97GncBn61zqD-NqCH1SxQ                                   Escape FLA   \n",
       "8   CtAyhedFk-2rBcbTPJVJyQ                          Vibrance Automotive   \n",
       "9   gFZCKS41Tb9pXxsmfVDj1Q                                  Aloha Shack   \n",
       "10  SP_sAkQgnUo5ftf-T4kxqA                                   Bar Napoli   \n",
       "11  dh5f-63H_B1frtfjnuzooA                                 El Saguarito   \n",
       "12  dHGZur-5eMsACxIM0zv9kg                     Orthopedic Medical Group   \n",
       "13  URPEp3ZutghJJ0CE2zFWEA                    Shan's Chinese Restaurant   \n",
       "14  sOnC4_aNjnutPxKtUZOuCg                          Seven Golden Floors   \n",
       "15  05V62BosZxIQke9yXnJiRQ                              Garcia's Bakery   \n",
       "16  rA1qZ1b3tFCRfa5GnoBSEw                     Camille Webb Photography   \n",
       "17  sGr9mGcAwg1gXYQUHghOjw                                   Tire World   \n",
       "18  ZUbyBcum99HzkLA3Z3CFQQ                    Eatible Delights Catering   \n",
       "19  1W2pIK8FBrgJNVGAcCD-sw                    Eastern Connection Movers   \n",
       "20  arpd3IorMV5kd6eS3hwYvw                  Dave Damitz Auto Upholstery   \n",
       "21  a_FgkY9w3A-zv1vrlYZkDg                               KRH Electrical   \n",
       "22  RyhoDgzLq4BLa9cv0S-Bvw                                 Compu Cell +   \n",
       "23  leCOue2vK75YBrztlPQM3Q  Vapors Smokeshop & Kava Bar - Wesley Chapel   \n",
       "24  mLPFfQSc7dLaYfRQ1Ldfcg                Chalaco's Ceviche & Pisco Bar   \n",
       "25  gJmJnJZTRHNG8CVANvb8Yg               Pop's Dinette and Ice creamery   \n",
       "26  18EC88ppd63d9JMzfXIKrA                        Fabbylous Hair Studio   \n",
       "27  2gFPQCmKKVi1aHgGTLRZvA                              Green Eggs Cafe   \n",
       "\n",
       "                                              address              city state  \\\n",
       "0                                       1020 State St     santa Barbara    CA   \n",
       "1                                       330 Morgan St      phoenixville    PA   \n",
       "2                                        270 N 3rd St           telford    PA   \n",
       "3                                      345 OBrien Way            sparks    NV   \n",
       "4                                       3 S Orange St        wilmington    DE   \n",
       "5                                    1027 Central Ave  saint petersburg    FL   \n",
       "6                                                             riverview    FL   \n",
       "7                               2480 E Bay Dr, Ste 21            ​Largo    FL   \n",
       "8                           3100 N Stone Ave, Ste 104            tucson    AZ   \n",
       "9                         8798 N Red Rock Rd, Ste 201              reno    NV   \n",
       "10                                  7754 Forsyth Blvd          ​Clayton    MO   \n",
       "11                                    804 B S 6th Ave            tucson    AZ   \n",
       "12                            13837 Circa Crossing Dr           ​Lithia    FL   \n",
       "13                           1555 Hurffville Rd, Ste2            sewell    NJ   \n",
       "14                                   6131 Anderson Rd             tampa    FL   \n",
       "15                                  5805 State Rd 674           wimauma    FL   \n",
       "16                                                                 reno    NV   \n",
       "17                             202 W Hillsborough Ave             tampa    FL   \n",
       "18                                 1540 Wadsworth Ave      philadelphia    PA   \n",
       "19                                                           quakertown    PA   \n",
       "20  4500 E Speedway Blvd, suit 10, Midway Business...            tucson    AZ   \n",
       "21                                  12111 W Taylor Pl            tucson    AZ   \n",
       "22                           10475 St Charles Rock Rd         saint ann    MO   \n",
       "23                                 2320 Willow Oak Dr     wesley chapel    FL   \n",
       "24                                      1030 N 2nd St      philadelphia    PA   \n",
       "25                                       60 N Main St       spring city    PA   \n",
       "26                                4078 Commercial Way       spring hill    FL   \n",
       "27                                       33 S 18th St      philadelphia    PA   \n",
       "\n",
       "   postal_code  stars  review_count  \\\n",
       "0        93101    4.5            15   \n",
       "1        19460    5.0             6   \n",
       "2        18969    3.0             9   \n",
       "3        89431    3.5            12   \n",
       "4        19801    4.0            61   \n",
       "5        33705    4.5            19   \n",
       "6        33579    4.5            24   \n",
       "7        33771    5.0            15   \n",
       "8        85705    4.5            10   \n",
       "9        89508    4.5           139   \n",
       "10       63105    4.0             6   \n",
       "11       85701    3.5           155   \n",
       "12       33547    1.5             6   \n",
       "13       08096    4.0            28   \n",
       "14       33634    5.0             5   \n",
       "15       33598    4.5             8   \n",
       "16       89523    5.0             6   \n",
       "17       33604    4.0            32   \n",
       "18       19121    3.5            31   \n",
       "19       18960    1.5            15   \n",
       "20       85712    5.0             8   \n",
       "21       85743    3.5             9   \n",
       "22       63074    5.0             6   \n",
       "23       33544    4.0             8   \n",
       "24       19123    4.0            90   \n",
       "25       19475    4.0             6   \n",
       "26       34606    2.5             7   \n",
       "27       19103    4.0           119   \n",
       "\n",
       "                                           attributes  \\\n",
       "0             {'BusinessAcceptsCreditCards': 'False'}   \n",
       "1   {'BusinessAcceptsCreditCards': 'True', 'Busine...   \n",
       "2   {'BusinessAcceptsCreditCards': 'True', 'ByAppo...   \n",
       "3   {'ByAppointmentOnly': 'True', 'BusinessAccepts...   \n",
       "4   {'WheelchairAccessible': 'True', 'RestaurantsR...   \n",
       "5   {'BusinessParking': '{'garage': False, 'street...   \n",
       "6   {'BusinessAcceptsCreditCards': 'True', 'WiFi':...   \n",
       "7   {'ByAppointmentOnly': 'True', 'BusinessAccepts...   \n",
       "8              {'BusinessAcceptsCreditCards': 'True'}   \n",
       "9   {'RestaurantsReservations': 'False', 'Ambience...   \n",
       "10                {'RestaurantsReservations': 'True'}   \n",
       "11  {'OutdoorSeating': 'False', 'NoiseLevel': 'u'a...   \n",
       "12  {'BusinessAcceptsCreditCards': 'True', 'Accept...   \n",
       "13  {'BusinessAcceptsCreditCards': 'True', 'Ambien...   \n",
       "14  {'BusinessAcceptsCreditCards': 'True', 'ByAppo...   \n",
       "15  {'RestaurantsReservations': 'False', 'Business...   \n",
       "16            {'BusinessAcceptsCreditCards': 'False'}   \n",
       "17  {'BusinessAcceptsCreditCards': 'True', 'WiFi':...   \n",
       "18  {'BusinessAcceptsCreditCards': 'True', 'Restau...   \n",
       "19  {'ByAppointmentOnly': 'False', 'BusinessAccept...   \n",
       "20  {'BusinessAcceptsCreditCards': 'True', 'WiFi':...   \n",
       "21  {'ByAppointmentOnly': 'False', 'BusinessAccept...   \n",
       "22             {'BusinessAcceptsCreditCards': 'True'}   \n",
       "23  {'WheelchairAccessible': 'True', 'DogsAllowed'...   \n",
       "24  {'RestaurantsReservations': 'True', 'Music': '...   \n",
       "25  {'RestaurantsDelivery': 'True', 'BusinessParki...   \n",
       "26  {'ByAppointmentOnly': 'True', 'RestaurantsPric...   \n",
       "27  {'BusinessAcceptsBitcoin': 'False', 'HappyHour...   \n",
       "\n",
       "                                           categories  \n",
       "0              Electricians, Home Services, Utilities  \n",
       "1   Windows Installation, Home & Garden, Kitchen &...  \n",
       "2   Movers, Home Services, Local Services, Junk Re...  \n",
       "3              Firewood, Home Services, Tree Services  \n",
       "4   Mexican, Barbeque, Restaurants, Caribbean, Lat...  \n",
       "5   Accessories, Jewelry, Fashion, Shopping, Women...  \n",
       "6   Auto Repair, Automotive, Commercial Truck Repa...  \n",
       "7   Event Planning & Services, Team Building Activ...  \n",
       "8   Auto Parts & Supplies, Contractors, Electricia...  \n",
       "9   Event Planning & Services, Restaurants, Catere...  \n",
       "10                                    Nightlife, Bars  \n",
       "11                               Mexican, Restaurants  \n",
       "12            Doctors, Health & Medical, Orthopedists  \n",
       "13                               Chinese, Restaurants  \n",
       "14  Contractors, Building Supplies, Home Services,...  \n",
       "15  Restaurants, Bakeries, Mexican, Breakfast & Br...  \n",
       "16  Photographers, Session Photography, Event Plan...  \n",
       "17  Wheel & Rim Repair, Auto Repair, Tires, Automo...  \n",
       "18                Event Planning & Services, Caterers  \n",
       "19                              Movers, Home Services  \n",
       "20  Auto Upholstery, Local Services, Automotive, A...  \n",
       "21  Security Systems, TV Mounting, Electricians, L...  \n",
       "22  IT Services & Computer Repair, Electronics Rep...  \n",
       "23                               Shopping, Vape Shops  \n",
       "24  Restaurants, Peruvian, Bars, Southern, Cocktai...  \n",
       "25  Ice Cream & Frozen Yogurt, Restaurants, Diners...  \n",
       "26  Beauty & Spas, Hair Salons, Nail Salons, Makeu...  \n",
       "27    Restaurants, Breakfast & Brunch, Cafes, Burgers  >"
      ]
     },
     "execution_count": 2,
     "metadata": {},
     "output_type": "execute_result"
    }
   ],
   "source": [
    "import numpy as np\n",
    "import pandas as pd\n",
    "yelp_busn = []\n",
    "r_dtypes = {\"stars\": np.float16, \n",
    "            \"latitude\": np.int32, \n",
    "            \"longitude\": np.int32,\n",
    "           }\n",
    "with open(\"yelp_academic_dataset_business.json\", \"r\", encoding='utf8') as f:\n",
    "    reader = pd.read_json(f, orient=\"records\", lines=True, \n",
    "                          dtype=r_dtypes, chunksize=1000)\n",
    "        \n",
    "    for chunk in reader:\n",
    "        reduced_chunk = chunk.drop(columns=['is_open', 'longitude','latitude','hours'])\\\n",
    "                             .query(\"`city` >= 'philadelphia'\")\n",
    "        yelp_busn.append(reduced_chunk)\n",
    "    \n",
    "yelp_busn = pd.concat(yelp_busn, ignore_index=True)\n",
    "yelp_busn.describe"
   ]
  },
  {
   "cell_type": "code",
   "execution_count": 3,
   "id": "5995c6df",
   "metadata": {},
   "outputs": [
    {
     "ename": "KeyboardInterrupt",
     "evalue": "",
     "output_type": "error",
     "traceback": [
      "\u001b[1;31m---------------------------------------------------------------------------\u001b[0m",
      "\u001b[1;31mKeyboardInterrupt\u001b[0m                         Traceback (most recent call last)",
      "\u001b[1;32m~\\AppData\\Local\\Temp/ipykernel_2484/2545889266.py\u001b[0m in \u001b[0;36m<module>\u001b[1;34m\u001b[0m\n\u001b[0;32m      2\u001b[0m \u001b[1;32mimport\u001b[0m \u001b[0mlangdetect\u001b[0m \u001b[1;31m#install via cmd line\" !pip install langdetect\u001b[0m\u001b[1;33m\u001b[0m\u001b[1;33m\u001b[0m\u001b[0m\n\u001b[0;32m      3\u001b[0m \u001b[1;32mfrom\u001b[0m \u001b[0mlangdetect\u001b[0m \u001b[1;32mimport\u001b[0m \u001b[0mdetect_langs\u001b[0m\u001b[1;33m\u001b[0m\u001b[1;33m\u001b[0m\u001b[0m\n\u001b[1;32m----> 4\u001b[1;33m \u001b[0mlanguage\u001b[0m \u001b[1;33m=\u001b[0m \u001b[1;33m[\u001b[0m\u001b[0mdetect_langs\u001b[0m\u001b[1;33m(\u001b[0m\u001b[0mi\u001b[0m\u001b[1;33m)\u001b[0m \u001b[1;32mfor\u001b[0m \u001b[0mi\u001b[0m \u001b[1;32min\u001b[0m \u001b[0myelp_reviews\u001b[0m\u001b[1;33m.\u001b[0m\u001b[0mtext\u001b[0m\u001b[1;33m]\u001b[0m\u001b[1;33m\u001b[0m\u001b[1;33m\u001b[0m\u001b[0m\n\u001b[0m\u001b[0;32m      5\u001b[0m \u001b[0mlanguages\u001b[0m \u001b[1;33m=\u001b[0m \u001b[1;33m[\u001b[0m\u001b[0mstr\u001b[0m\u001b[1;33m(\u001b[0m\u001b[0mi\u001b[0m\u001b[1;33m[\u001b[0m\u001b[1;36m0\u001b[0m\u001b[1;33m]\u001b[0m\u001b[1;33m)\u001b[0m\u001b[1;33m.\u001b[0m\u001b[0msplit\u001b[0m\u001b[1;33m(\u001b[0m\u001b[1;34m':'\u001b[0m\u001b[1;33m)\u001b[0m\u001b[1;33m[\u001b[0m\u001b[1;36m0\u001b[0m\u001b[1;33m]\u001b[0m \u001b[1;32mfor\u001b[0m \u001b[0mi\u001b[0m \u001b[1;32min\u001b[0m \u001b[0mlanguage\u001b[0m\u001b[1;33m]\u001b[0m\u001b[1;33m\u001b[0m\u001b[1;33m\u001b[0m\u001b[0m\n\u001b[0;32m      6\u001b[0m \u001b[0myelp_reviews\u001b[0m\u001b[1;33m[\u001b[0m\u001b[1;34m'language'\u001b[0m\u001b[1;33m]\u001b[0m \u001b[1;33m=\u001b[0m \u001b[0mlanguages\u001b[0m\u001b[1;33m\u001b[0m\u001b[1;33m\u001b[0m\u001b[0m\n",
      "\u001b[1;32m~\\AppData\\Local\\Temp/ipykernel_2484/2545889266.py\u001b[0m in \u001b[0;36m<listcomp>\u001b[1;34m(.0)\u001b[0m\n\u001b[0;32m      2\u001b[0m \u001b[1;32mimport\u001b[0m \u001b[0mlangdetect\u001b[0m \u001b[1;31m#install via cmd line\" !pip install langdetect\u001b[0m\u001b[1;33m\u001b[0m\u001b[1;33m\u001b[0m\u001b[0m\n\u001b[0;32m      3\u001b[0m \u001b[1;32mfrom\u001b[0m \u001b[0mlangdetect\u001b[0m \u001b[1;32mimport\u001b[0m \u001b[0mdetect_langs\u001b[0m\u001b[1;33m\u001b[0m\u001b[1;33m\u001b[0m\u001b[0m\n\u001b[1;32m----> 4\u001b[1;33m \u001b[0mlanguage\u001b[0m \u001b[1;33m=\u001b[0m \u001b[1;33m[\u001b[0m\u001b[0mdetect_langs\u001b[0m\u001b[1;33m(\u001b[0m\u001b[0mi\u001b[0m\u001b[1;33m)\u001b[0m \u001b[1;32mfor\u001b[0m \u001b[0mi\u001b[0m \u001b[1;32min\u001b[0m \u001b[0myelp_reviews\u001b[0m\u001b[1;33m.\u001b[0m\u001b[0mtext\u001b[0m\u001b[1;33m]\u001b[0m\u001b[1;33m\u001b[0m\u001b[1;33m\u001b[0m\u001b[0m\n\u001b[0m\u001b[0;32m      5\u001b[0m \u001b[0mlanguages\u001b[0m \u001b[1;33m=\u001b[0m \u001b[1;33m[\u001b[0m\u001b[0mstr\u001b[0m\u001b[1;33m(\u001b[0m\u001b[0mi\u001b[0m\u001b[1;33m[\u001b[0m\u001b[1;36m0\u001b[0m\u001b[1;33m]\u001b[0m\u001b[1;33m)\u001b[0m\u001b[1;33m.\u001b[0m\u001b[0msplit\u001b[0m\u001b[1;33m(\u001b[0m\u001b[1;34m':'\u001b[0m\u001b[1;33m)\u001b[0m\u001b[1;33m[\u001b[0m\u001b[1;36m0\u001b[0m\u001b[1;33m]\u001b[0m \u001b[1;32mfor\u001b[0m \u001b[0mi\u001b[0m \u001b[1;32min\u001b[0m \u001b[0mlanguage\u001b[0m\u001b[1;33m]\u001b[0m\u001b[1;33m\u001b[0m\u001b[1;33m\u001b[0m\u001b[0m\n\u001b[0;32m      6\u001b[0m \u001b[0myelp_reviews\u001b[0m\u001b[1;33m[\u001b[0m\u001b[1;34m'language'\u001b[0m\u001b[1;33m]\u001b[0m \u001b[1;33m=\u001b[0m \u001b[0mlanguages\u001b[0m\u001b[1;33m\u001b[0m\u001b[1;33m\u001b[0m\u001b[0m\n",
      "\u001b[1;32m~\\anaconda3\\lib\\site-packages\\langdetect\\detector_factory.py\u001b[0m in \u001b[0;36mdetect_langs\u001b[1;34m(text)\u001b[0m\n\u001b[0;32m    135\u001b[0m     \u001b[0mdetector\u001b[0m \u001b[1;33m=\u001b[0m \u001b[0m_factory\u001b[0m\u001b[1;33m.\u001b[0m\u001b[0mcreate\u001b[0m\u001b[1;33m(\u001b[0m\u001b[1;33m)\u001b[0m\u001b[1;33m\u001b[0m\u001b[1;33m\u001b[0m\u001b[0m\n\u001b[0;32m    136\u001b[0m     \u001b[0mdetector\u001b[0m\u001b[1;33m.\u001b[0m\u001b[0mappend\u001b[0m\u001b[1;33m(\u001b[0m\u001b[0mtext\u001b[0m\u001b[1;33m)\u001b[0m\u001b[1;33m\u001b[0m\u001b[1;33m\u001b[0m\u001b[0m\n\u001b[1;32m--> 137\u001b[1;33m     \u001b[1;32mreturn\u001b[0m \u001b[0mdetector\u001b[0m\u001b[1;33m.\u001b[0m\u001b[0mget_probabilities\u001b[0m\u001b[1;33m(\u001b[0m\u001b[1;33m)\u001b[0m\u001b[1;33m\u001b[0m\u001b[1;33m\u001b[0m\u001b[0m\n\u001b[0m",
      "\u001b[1;32m~\\anaconda3\\lib\\site-packages\\langdetect\\detector.py\u001b[0m in \u001b[0;36mget_probabilities\u001b[1;34m(self)\u001b[0m\n\u001b[0;32m    141\u001b[0m     \u001b[1;32mdef\u001b[0m \u001b[0mget_probabilities\u001b[0m\u001b[1;33m(\u001b[0m\u001b[0mself\u001b[0m\u001b[1;33m)\u001b[0m\u001b[1;33m:\u001b[0m\u001b[1;33m\u001b[0m\u001b[1;33m\u001b[0m\u001b[0m\n\u001b[0;32m    142\u001b[0m         \u001b[1;32mif\u001b[0m \u001b[0mself\u001b[0m\u001b[1;33m.\u001b[0m\u001b[0mlangprob\u001b[0m \u001b[1;32mis\u001b[0m \u001b[1;32mNone\u001b[0m\u001b[1;33m:\u001b[0m\u001b[1;33m\u001b[0m\u001b[1;33m\u001b[0m\u001b[0m\n\u001b[1;32m--> 143\u001b[1;33m             \u001b[0mself\u001b[0m\u001b[1;33m.\u001b[0m\u001b[0m_detect_block\u001b[0m\u001b[1;33m(\u001b[0m\u001b[1;33m)\u001b[0m\u001b[1;33m\u001b[0m\u001b[1;33m\u001b[0m\u001b[0m\n\u001b[0m\u001b[0;32m    144\u001b[0m         \u001b[1;32mreturn\u001b[0m \u001b[0mself\u001b[0m\u001b[1;33m.\u001b[0m\u001b[0m_sort_probability\u001b[0m\u001b[1;33m(\u001b[0m\u001b[0mself\u001b[0m\u001b[1;33m.\u001b[0m\u001b[0mlangprob\u001b[0m\u001b[1;33m)\u001b[0m\u001b[1;33m\u001b[0m\u001b[1;33m\u001b[0m\u001b[0m\n\u001b[0;32m    145\u001b[0m \u001b[1;33m\u001b[0m\u001b[0m\n",
      "\u001b[1;32m~\\anaconda3\\lib\\site-packages\\langdetect\\detector.py\u001b[0m in \u001b[0;36m_detect_block\u001b[1;34m(self)\u001b[0m\n\u001b[0;32m    146\u001b[0m     \u001b[1;32mdef\u001b[0m \u001b[0m_detect_block\u001b[0m\u001b[1;33m(\u001b[0m\u001b[0mself\u001b[0m\u001b[1;33m)\u001b[0m\u001b[1;33m:\u001b[0m\u001b[1;33m\u001b[0m\u001b[1;33m\u001b[0m\u001b[0m\n\u001b[0;32m    147\u001b[0m         \u001b[0mself\u001b[0m\u001b[1;33m.\u001b[0m\u001b[0mcleaning_text\u001b[0m\u001b[1;33m(\u001b[0m\u001b[1;33m)\u001b[0m\u001b[1;33m\u001b[0m\u001b[1;33m\u001b[0m\u001b[0m\n\u001b[1;32m--> 148\u001b[1;33m         \u001b[0mngrams\u001b[0m \u001b[1;33m=\u001b[0m \u001b[0mself\u001b[0m\u001b[1;33m.\u001b[0m\u001b[0m_extract_ngrams\u001b[0m\u001b[1;33m(\u001b[0m\u001b[1;33m)\u001b[0m\u001b[1;33m\u001b[0m\u001b[1;33m\u001b[0m\u001b[0m\n\u001b[0m\u001b[0;32m    149\u001b[0m         \u001b[1;32mif\u001b[0m \u001b[1;32mnot\u001b[0m \u001b[0mngrams\u001b[0m\u001b[1;33m:\u001b[0m\u001b[1;33m\u001b[0m\u001b[1;33m\u001b[0m\u001b[0m\n\u001b[0;32m    150\u001b[0m             \u001b[1;32mraise\u001b[0m \u001b[0mLangDetectException\u001b[0m\u001b[1;33m(\u001b[0m\u001b[0mErrorCode\u001b[0m\u001b[1;33m.\u001b[0m\u001b[0mCantDetectError\u001b[0m\u001b[1;33m,\u001b[0m \u001b[1;34m'No features in text.'\u001b[0m\u001b[1;33m)\u001b[0m\u001b[1;33m\u001b[0m\u001b[1;33m\u001b[0m\u001b[0m\n",
      "\u001b[1;32m~\\anaconda3\\lib\\site-packages\\langdetect\\detector.py\u001b[0m in \u001b[0;36m_extract_ngrams\u001b[1;34m(self)\u001b[0m\n\u001b[0;32m    187\u001b[0m         \u001b[0mngram\u001b[0m \u001b[1;33m=\u001b[0m \u001b[0mNGram\u001b[0m\u001b[1;33m(\u001b[0m\u001b[1;33m)\u001b[0m\u001b[1;33m\u001b[0m\u001b[1;33m\u001b[0m\u001b[0m\n\u001b[0;32m    188\u001b[0m         \u001b[1;32mfor\u001b[0m \u001b[0mch\u001b[0m \u001b[1;32min\u001b[0m \u001b[0mself\u001b[0m\u001b[1;33m.\u001b[0m\u001b[0mtext\u001b[0m\u001b[1;33m:\u001b[0m\u001b[1;33m\u001b[0m\u001b[1;33m\u001b[0m\u001b[0m\n\u001b[1;32m--> 189\u001b[1;33m             \u001b[0mngram\u001b[0m\u001b[1;33m.\u001b[0m\u001b[0madd_char\u001b[0m\u001b[1;33m(\u001b[0m\u001b[0mch\u001b[0m\u001b[1;33m)\u001b[0m\u001b[1;33m\u001b[0m\u001b[1;33m\u001b[0m\u001b[0m\n\u001b[0m\u001b[0;32m    190\u001b[0m             \u001b[1;32mif\u001b[0m \u001b[0mngram\u001b[0m\u001b[1;33m.\u001b[0m\u001b[0mcapitalword\u001b[0m\u001b[1;33m:\u001b[0m\u001b[1;33m\u001b[0m\u001b[1;33m\u001b[0m\u001b[0m\n\u001b[0;32m    191\u001b[0m                 \u001b[1;32mcontinue\u001b[0m\u001b[1;33m\u001b[0m\u001b[1;33m\u001b[0m\u001b[0m\n",
      "\u001b[1;32m~\\anaconda3\\lib\\site-packages\\langdetect\\utils\\ngram.py\u001b[0m in \u001b[0;36madd_char\u001b[1;34m(self, ch)\u001b[0m\n\u001b[0;32m     32\u001b[0m         \u001b[1;34m'''Append a character into ngram buffer.'''\u001b[0m\u001b[1;33m\u001b[0m\u001b[1;33m\u001b[0m\u001b[0m\n\u001b[0;32m     33\u001b[0m         \u001b[0mch\u001b[0m \u001b[1;33m=\u001b[0m \u001b[0mself\u001b[0m\u001b[1;33m.\u001b[0m\u001b[0mnormalize\u001b[0m\u001b[1;33m(\u001b[0m\u001b[0mch\u001b[0m\u001b[1;33m)\u001b[0m\u001b[1;33m\u001b[0m\u001b[1;33m\u001b[0m\u001b[0m\n\u001b[1;32m---> 34\u001b[1;33m         \u001b[0mlast_char\u001b[0m \u001b[1;33m=\u001b[0m \u001b[0mself\u001b[0m\u001b[1;33m.\u001b[0m\u001b[0mgrams\u001b[0m\u001b[1;33m[\u001b[0m\u001b[1;33m-\u001b[0m\u001b[1;36m1\u001b[0m\u001b[1;33m]\u001b[0m\u001b[1;33m\u001b[0m\u001b[1;33m\u001b[0m\u001b[0m\n\u001b[0m\u001b[0;32m     35\u001b[0m         \u001b[1;32mif\u001b[0m \u001b[0mlast_char\u001b[0m \u001b[1;33m==\u001b[0m \u001b[1;34m' '\u001b[0m\u001b[1;33m:\u001b[0m\u001b[1;33m\u001b[0m\u001b[1;33m\u001b[0m\u001b[0m\n\u001b[0;32m     36\u001b[0m             \u001b[0mself\u001b[0m\u001b[1;33m.\u001b[0m\u001b[0mgrams\u001b[0m \u001b[1;33m=\u001b[0m \u001b[1;34m' '\u001b[0m\u001b[1;33m\u001b[0m\u001b[1;33m\u001b[0m\u001b[0m\n",
      "\u001b[1;31mKeyboardInterrupt\u001b[0m: "
     ]
    }
   ],
   "source": [
    "#make sure all reviews are in english\n",
    "import langdetect #install via cmd line\" !pip install langdetect\n",
    "from langdetect import detect_langs\n",
    "language = [detect_langs(i) for i in yelp_reviews.text]\n",
    "languages = [str(i[0]).split(':')[0] for i in language]\n",
    "yelp_reviews['language'] = languages"
   ]
  },
  {
   "cell_type": "code",
   "execution_count": 4,
   "id": "8122d266",
   "metadata": {},
   "outputs": [
    {
     "data": {
      "text/html": [
       "<div>\n",
       "<style scoped>\n",
       "    .dataframe tbody tr th:only-of-type {\n",
       "        vertical-align: middle;\n",
       "    }\n",
       "\n",
       "    .dataframe tbody tr th {\n",
       "        vertical-align: top;\n",
       "    }\n",
       "\n",
       "    .dataframe thead th {\n",
       "        text-align: right;\n",
       "    }\n",
       "</style>\n",
       "<table border=\"1\" class=\"dataframe\">\n",
       "  <thead>\n",
       "    <tr style=\"text-align: right;\">\n",
       "      <th></th>\n",
       "      <th>business_id</th>\n",
       "      <th>stars</th>\n",
       "      <th>useful</th>\n",
       "      <th>funny</th>\n",
       "      <th>cool</th>\n",
       "      <th>text</th>\n",
       "      <th>date</th>\n",
       "      <th>text length</th>\n",
       "    </tr>\n",
       "  </thead>\n",
       "  <tbody>\n",
       "    <tr>\n",
       "      <th>0</th>\n",
       "      <td>drTZrkbpSoJgwKETlFbc3w</td>\n",
       "      <td>1.0</td>\n",
       "      <td>0</td>\n",
       "      <td>0</td>\n",
       "      <td>0</td>\n",
       "      <td>I bought a Fender 1966 Telecaster that the sal...</td>\n",
       "      <td>2022-01-01 15:47:07</td>\n",
       "      <td>641</td>\n",
       "    </tr>\n",
       "    <tr>\n",
       "      <th>1</th>\n",
       "      <td>jyxHti29yWdYR00Itt1A2w</td>\n",
       "      <td>5.0</td>\n",
       "      <td>0</td>\n",
       "      <td>0</td>\n",
       "      <td>0</td>\n",
       "      <td>This is our go to for take out when I visit my...</td>\n",
       "      <td>2022-01-02 03:49:01</td>\n",
       "      <td>208</td>\n",
       "    </tr>\n",
       "    <tr>\n",
       "      <th>2</th>\n",
       "      <td>Jo4ei-c-5H53IxZxAVf1jQ</td>\n",
       "      <td>5.0</td>\n",
       "      <td>0</td>\n",
       "      <td>0</td>\n",
       "      <td>0</td>\n",
       "      <td>Danielle did a great job!  She listened and cu...</td>\n",
       "      <td>2022-01-03 03:17:03</td>\n",
       "      <td>278</td>\n",
       "    </tr>\n",
       "    <tr>\n",
       "      <th>3</th>\n",
       "      <td>YT5CjacTllBtvMaMJS3IbA</td>\n",
       "      <td>1.0</td>\n",
       "      <td>0</td>\n",
       "      <td>0</td>\n",
       "      <td>0</td>\n",
       "      <td>We saw a lot of roaches in the bathroom when w...</td>\n",
       "      <td>2022-01-05 15:55:59</td>\n",
       "      <td>514</td>\n",
       "    </tr>\n",
       "    <tr>\n",
       "      <th>4</th>\n",
       "      <td>9MHe5jAym2d8VhT_NbCRyw</td>\n",
       "      <td>2.0</td>\n",
       "      <td>0</td>\n",
       "      <td>0</td>\n",
       "      <td>0</td>\n",
       "      <td>We  Ordered pork fried rice and beef chow mei ...</td>\n",
       "      <td>2022-01-06 03:59:21</td>\n",
       "      <td>148</td>\n",
       "    </tr>\n",
       "  </tbody>\n",
       "</table>\n",
       "</div>"
      ],
      "text/plain": [
       "              business_id  stars  useful  funny  cool  \\\n",
       "0  drTZrkbpSoJgwKETlFbc3w    1.0       0      0     0   \n",
       "1  jyxHti29yWdYR00Itt1A2w    5.0       0      0     0   \n",
       "2  Jo4ei-c-5H53IxZxAVf1jQ    5.0       0      0     0   \n",
       "3  YT5CjacTllBtvMaMJS3IbA    1.0       0      0     0   \n",
       "4  9MHe5jAym2d8VhT_NbCRyw    2.0       0      0     0   \n",
       "\n",
       "                                                text                date  \\\n",
       "0  I bought a Fender 1966 Telecaster that the sal... 2022-01-01 15:47:07   \n",
       "1  This is our go to for take out when I visit my... 2022-01-02 03:49:01   \n",
       "2  Danielle did a great job!  She listened and cu... 2022-01-03 03:17:03   \n",
       "3  We saw a lot of roaches in the bathroom when w... 2022-01-05 15:55:59   \n",
       "4  We  Ordered pork fried rice and beef chow mei ... 2022-01-06 03:59:21   \n",
       "\n",
       "   text length  \n",
       "0          641  \n",
       "1          208  \n",
       "2          278  \n",
       "3          514  \n",
       "4          148  "
      ]
     },
     "execution_count": 4,
     "metadata": {},
     "output_type": "execute_result"
    }
   ],
   "source": [
    "#first method: dictionaru/lexicon\n",
    "#add stop words\n",
    "yelp_reviews.describe\n",
    "yelp_reviews['text length'] = yelp_reviews['text'].apply(len)\n",
    "yelp_reviews.head()"
   ]
  },
  {
   "cell_type": "code",
   "execution_count": 5,
   "id": "df1c69ad",
   "metadata": {},
   "outputs": [
    {
     "data": {
      "text/plain": [
       "<seaborn.axisgrid.FacetGrid at 0x20f4cb3fe80>"
      ]
     },
     "execution_count": 5,
     "metadata": {},
     "output_type": "execute_result"
    },
    {
     "data": {
      "image/png": "[encoded data removed]",
      "text/plain": [
       "<Figure size 1080x216 with 5 Axes>"
      ]
     },
     "metadata": {
      "needs_background": "light"
     },
     "output_type": "display_data"
    }
   ],
   "source": [
    "import matplotlib.pyplot as plt\n",
    "import seaborn as sns\n",
    "g = sns.FacetGrid(data=yelp_reviews, col='stars')\n",
    "g.map(plt.hist, 'text length', bins=50)"
   ]
  },
  {
   "cell_type": "code",
   "execution_count": 6,
   "id": "8e6fe30d",
   "metadata": {},
   "outputs": [],
   "source": [
    "# Text Pre-Processing\n",
    "#Issue: All text is plain-text, needs to be a feature vector for classification\n",
    "#Approach: BOW (bag of words), remove stop words\n",
    "#function to remove stop words, punctuation, etc\n",
    "#my code was not working, googled and found an mltk option\n",
    "\n",
    "#import nltk\n",
    "#nltk.download('stopwords')\n",
    "import string\n",
    "from nltk.corpus import stopwords\n",
    "def process_text(text):\n",
    "    nopunc = [char for char in text if char not in string.punctuation]\n",
    "    nopunc = ''.join(nopunc)\n",
    "    return [word for word in nopunc.split() if word.lower() not in stopwords.words('english')]"
   ]
  },
  {
   "cell_type": "code",
   "execution_count": 7,
   "id": "3f581292",
   "metadata": {},
   "outputs": [
    {
     "data": {
      "text/plain": [
       "['The', 'quick', 'brown', 'fox', 'ate', 'suzy', 's', 'lunches', 'Oh', 'no']"
      ]
     },
     "execution_count": 7,
     "metadata": {},
     "output_type": "execute_result"
    }
   ],
   "source": [
    "#another option is to use the tokening & text processing option from nltk\n",
    "# removes stop, punctuation and turns the string of text into a vector\n",
    "from nltk.tokenize import RegexpTokenizer\n",
    "\n",
    "tokenizer = RegexpTokenizer(r'\\w+')\n",
    "tokenizer.tokenize(\"The quick brown fox ate suzy''s lunches. Oh no!\")\n",
    "# still has stop words"
   ]
  },
  {
   "cell_type": "code",
   "execution_count": 41,
   "id": "70fa0a8f",
   "metadata": {},
   "outputs": [
    {
     "data": {
      "text/plain": [
       "['bought',\n",
       " 'fender',\n",
       " '1966',\n",
       " 'telecaster',\n",
       " 'salesperson',\n",
       " 'told',\n",
       " 'original',\n",
       " 'got',\n",
       " 'home',\n",
       " 'noticed',\n",
       " '3way',\n",
       " 'switch',\n",
       " 'guitar',\n",
       " 'case',\n",
       " 'pocket',\n",
       " 'called',\n",
       " 'salesperson',\n",
       " 'told',\n",
       " 'new',\n",
       " 'switch',\n",
       " 'installed',\n",
       " 'means',\n",
       " 'instrument',\n",
       " 'original',\n",
       " 'asked',\n",
       " 'salesperson',\n",
       " 'talk',\n",
       " 'owner',\n",
       " 'got',\n",
       " 'response',\n",
       " 'wrote',\n",
       " 'letter',\n",
       " 'owner',\n",
       " 'expressing',\n",
       " 'concern',\n",
       " 'misrepresentation',\n",
       " 'asked',\n",
       " 'discuss',\n",
       " 'one',\n",
       " 'ever',\n",
       " 'responded',\n",
       " 'disappointing',\n",
       " 'surprising',\n",
       " 'would',\n",
       " 'expect',\n",
       " 'store',\n",
       " 'like',\n",
       " 'rumble',\n",
       " 'seat',\n",
       " 'accurate',\n",
       " 'selling',\n",
       " 'responsive',\n",
       " 'customers',\n",
       " 'concerns']"
      ]
     },
     "execution_count": 41,
     "metadata": {},
     "output_type": "execute_result"
    }
   ],
   "source": [
    "#tokenize and store reviews; no ned to maintain unique id\n",
    "X = yelp_reviews['text']\n",
    "y = yelp_reviews['stars']\n",
    "#X[0]\n",
    "#tokenizer.tokenize(X[0]) # did not remove stop words\n",
    "\n",
    "X0 = process_text(X[0]) # removes stop words! USE THIS FUNCTION\n",
    "X0"
   ]
  },
  {
   "cell_type": "code",
   "execution_count": 50,
   "id": "3275eb43",
   "metadata": {},
   "outputs": [
    {
     "name": "stdout",
     "output_type": "stream",
     "text": [
      "['bought', 'fender', '1966', 'telecast', 'salesperson', 'told', 'origin', 'got', 'home', 'notic', '3way', 'switch', 'guitar', 'case', 'pocket', 'call', 'salesperson', 'told', 'new', 'switch', 'instal', 'mean', 'instrument', 'origin', 'ask', 'salesperson', 'talk', 'owner', 'got', 'respons', 'wrote', 'letter', 'owner', 'express', 'concern', 'misrepresent', 'ask', 'discuss', 'one', 'ever', 'respond', 'disappoint', 'surpris', 'would', 'expect', 'store', 'like', 'rumbl', 'seat', 'accur', 'sell', 'respons', 'custom', 'concern']\n"
     ]
    }
   ],
   "source": [
    "#stem words - greater = greater = greatest\n",
    "#assumes that stnregth of word does not correspond strongly to 4/5 rating\n",
    "import nltk\n",
    "#nltk.download('punkt')\n",
    "from nltk.stem.snowball import SnowballStemmer\n",
    "snowBallStemmer = SnowballStemmer(\"english\")\n",
    "stemWords = [snowBallStemmer.stem(word) for word in X0]\n",
    "print(stemWords)\n",
    "#stemmed = ' '.join(stemWords)\n",
    "#print(sentence)\n",
    "#print('')\n",
    "#print(stemmed)\n",
    "#X0_stemmed = stemmed\n",
    "#vectorizer.fit(X0_stemmed)"
   ]
  },
  {
   "cell_type": "code",
   "execution_count": 57,
   "id": "2b9670b8",
   "metadata": {},
   "outputs": [
    {
     "name": "stdout",
     "output_type": "stream",
     "text": [
      "Vocab:  {'bought': 4, 'fender': 14, '1966': 0, 'telecast': 40, 'salesperson': 33, 'told': 41, 'origin': 27, 'got': 15, 'home': 17, 'notic': 25, '3way': 1, 'switch': 38, 'guitar': 16, 'case': 6, 'pocket': 29, 'call': 5, 'new': 24, 'instal': 18, 'mean': 22, 'instrument': 19, 'ask': 3, 'talk': 39, 'owner': 28, 'respons': 31, 'wrote': 43, 'letter': 20, 'express': 13, 'concern': 7, 'misrepresent': 23, 'discuss': 10, 'one': 26, 'ever': 11, 'respond': 30, 'disappoint': 9, 'surpris': 37, 'would': 42, 'expect': 12, 'store': 36, 'like': 21, 'rumbl': 32, 'seat': 34, 'accur': 2, 'sell': 35, 'custom': 8}\n"
     ]
    }
   ],
   "source": [
    "# At this point, you have the data imported and a way to clean it. now clean all of it and store as vector\n",
    "# From geeksforgeeks: CountVectorizer is a great tool provided by the scikit-learn library in Python.\n",
    "# It is used to transform a given text into a vector on the basis of the frequency (count) of each word that occurs in the entire text. \n",
    "from sklearn.feature_extraction.text import CountVectorizer\n",
    "vectorizer = CountVectorizer()\n",
    "X0_vectorizer = vectorizer.fit(stemWords)\n",
    "print(\"Vocab: \", X0_vectorizer.vocabulary_)"
   ]
  },
  {
   "cell_type": "code",
   "execution_count": 33,
   "id": "026b21f8",
   "metadata": {},
   "outputs": [
    {
     "name": "stdout",
     "output_type": "stream",
     "text": [
      "Vocabulary:  {'one': 9, 'geek': 3, 'helps': 7, 'two': 11, 'geeks': 4, 'help': 6, 'four': 2, 'each': 1, 'many': 8, 'other': 10, 'at': 0, 'geeksforgeeks': 5}\n",
      "Encoded Document is:\n",
      "[[0 0 0 1 1 0 0 1 0 1 0 1]\n",
      " [0 0 1 0 2 0 1 0 0 0 0 1]\n",
      " [1 1 0 1 1 1 0 1 1 0 1 0]]\n"
     ]
    }
   ],
   "source": [
    "\n",
    "from sklearn.feature_extraction.text import CountVectorizer\n",
    "  \n",
    "document = [\"One Geek helps Two Geeks\",\n",
    "            \"Two Geeks help Four Geeks\",\n",
    "            \"Each Geek helps many other Geeks at GeeksforGeeks\"]\n",
    "  \n",
    "# Create a Vectorizer Object\n",
    "vectorizer = CountVectorizer()\n",
    "  \n",
    "vectorizer.fit(document)\n",
    "  \n",
    "# Printing the identified Unique words along with their indices\n",
    "print(\"Vocabulary: \", vectorizer.vocabulary_)\n",
    "  \n",
    "# Encode the Document\n",
    "vector = vectorizer.transform(document)\n",
    "  \n",
    "# Summarizing the Encoded Texts\n",
    "print(\"Encoded Document is:\")\n",
    "print(vector.toarray())"
   ]
  },
  {
   "cell_type": "code",
   "execution_count": 49,
   "id": "6aa02411",
   "metadata": {},
   "outputs": [
    {
     "ename": "ValueError",
     "evalue": "could not convert string to float: 'Classic burger was fantastic! The shareable sweet potato fries are really shareable portions. Atmosphere was chill. Would visit again!'",
     "output_type": "error",
     "traceback": [
      "\u001b[1;31m---------------------------------------------------------------------------\u001b[0m",
      "\u001b[1;31mValueError\u001b[0m                                Traceback (most recent call last)",
      "\u001b[1;32m~\\AppData\\Local\\Temp/ipykernel_13908/1936938588.py\u001b[0m in \u001b[0;36m<module>\u001b[1;34m\u001b[0m\n\u001b[0;32m      6\u001b[0m \u001b[0mX_train\u001b[0m\u001b[1;33m,\u001b[0m \u001b[0mX_test\u001b[0m\u001b[1;33m,\u001b[0m \u001b[0my_train\u001b[0m\u001b[1;33m,\u001b[0m \u001b[0my_test\u001b[0m \u001b[1;33m=\u001b[0m \u001b[0mtrain_test_split\u001b[0m\u001b[1;33m(\u001b[0m\u001b[0mX\u001b[0m\u001b[1;33m,\u001b[0m \u001b[0my\u001b[0m\u001b[1;33m,\u001b[0m \u001b[0mtest_size\u001b[0m\u001b[1;33m=\u001b[0m\u001b[1;36m0.3\u001b[0m\u001b[1;33m,\u001b[0m \u001b[0mrandom_state\u001b[0m\u001b[1;33m=\u001b[0m\u001b[1;36m101\u001b[0m\u001b[1;33m)\u001b[0m\u001b[1;33m\u001b[0m\u001b[1;33m\u001b[0m\u001b[0m\n\u001b[0;32m      7\u001b[0m \u001b[0mnb\u001b[0m \u001b[1;33m=\u001b[0m \u001b[0mMultinomialNB\u001b[0m\u001b[1;33m(\u001b[0m\u001b[1;33m)\u001b[0m\u001b[1;33m\u001b[0m\u001b[1;33m\u001b[0m\u001b[0m\n\u001b[1;32m----> 8\u001b[1;33m \u001b[0mnb\u001b[0m\u001b[1;33m.\u001b[0m\u001b[0mfit\u001b[0m\u001b[1;33m(\u001b[0m\u001b[0mX_train\u001b[0m\u001b[1;33m,\u001b[0m \u001b[0my_train\u001b[0m\u001b[1;33m)\u001b[0m\u001b[1;33m\u001b[0m\u001b[1;33m\u001b[0m\u001b[0m\n\u001b[0m",
      "\u001b[1;32m~\\anaconda3\\lib\\site-packages\\sklearn\\naive_bayes.py\u001b[0m in \u001b[0;36mfit\u001b[1;34m(self, X, y, sample_weight)\u001b[0m\n\u001b[0;32m    661\u001b[0m             \u001b[0mReturns\u001b[0m \u001b[0mthe\u001b[0m \u001b[0minstance\u001b[0m \u001b[0mitself\u001b[0m\u001b[1;33m.\u001b[0m\u001b[1;33m\u001b[0m\u001b[1;33m\u001b[0m\u001b[0m\n\u001b[0;32m    662\u001b[0m         \"\"\"\n\u001b[1;32m--> 663\u001b[1;33m         \u001b[0mX\u001b[0m\u001b[1;33m,\u001b[0m \u001b[0my\u001b[0m \u001b[1;33m=\u001b[0m \u001b[0mself\u001b[0m\u001b[1;33m.\u001b[0m\u001b[0m_check_X_y\u001b[0m\u001b[1;33m(\u001b[0m\u001b[0mX\u001b[0m\u001b[1;33m,\u001b[0m \u001b[0my\u001b[0m\u001b[1;33m)\u001b[0m\u001b[1;33m\u001b[0m\u001b[1;33m\u001b[0m\u001b[0m\n\u001b[0m\u001b[0;32m    664\u001b[0m         \u001b[0m_\u001b[0m\u001b[1;33m,\u001b[0m \u001b[0mn_features\u001b[0m \u001b[1;33m=\u001b[0m \u001b[0mX\u001b[0m\u001b[1;33m.\u001b[0m\u001b[0mshape\u001b[0m\u001b[1;33m\u001b[0m\u001b[1;33m\u001b[0m\u001b[0m\n\u001b[0;32m    665\u001b[0m \u001b[1;33m\u001b[0m\u001b[0m\n",
      "\u001b[1;32m~\\anaconda3\\lib\\site-packages\\sklearn\\naive_bayes.py\u001b[0m in \u001b[0;36m_check_X_y\u001b[1;34m(self, X, y, reset)\u001b[0m\n\u001b[0;32m    521\u001b[0m     \u001b[1;32mdef\u001b[0m \u001b[0m_check_X_y\u001b[0m\u001b[1;33m(\u001b[0m\u001b[0mself\u001b[0m\u001b[1;33m,\u001b[0m \u001b[0mX\u001b[0m\u001b[1;33m,\u001b[0m \u001b[0my\u001b[0m\u001b[1;33m,\u001b[0m \u001b[0mreset\u001b[0m\u001b[1;33m=\u001b[0m\u001b[1;32mTrue\u001b[0m\u001b[1;33m)\u001b[0m\u001b[1;33m:\u001b[0m\u001b[1;33m\u001b[0m\u001b[1;33m\u001b[0m\u001b[0m\n\u001b[0;32m    522\u001b[0m         \u001b[1;34m\"\"\"Validate X and y in fit methods.\"\"\"\u001b[0m\u001b[1;33m\u001b[0m\u001b[1;33m\u001b[0m\u001b[0m\n\u001b[1;32m--> 523\u001b[1;33m         \u001b[1;32mreturn\u001b[0m \u001b[0mself\u001b[0m\u001b[1;33m.\u001b[0m\u001b[0m_validate_data\u001b[0m\u001b[1;33m(\u001b[0m\u001b[0mX\u001b[0m\u001b[1;33m,\u001b[0m \u001b[0my\u001b[0m\u001b[1;33m,\u001b[0m \u001b[0maccept_sparse\u001b[0m\u001b[1;33m=\u001b[0m\u001b[1;34m\"csr\"\u001b[0m\u001b[1;33m,\u001b[0m \u001b[0mreset\u001b[0m\u001b[1;33m=\u001b[0m\u001b[0mreset\u001b[0m\u001b[1;33m)\u001b[0m\u001b[1;33m\u001b[0m\u001b[1;33m\u001b[0m\u001b[0m\n\u001b[0m\u001b[0;32m    524\u001b[0m \u001b[1;33m\u001b[0m\u001b[0m\n\u001b[0;32m    525\u001b[0m     \u001b[1;32mdef\u001b[0m \u001b[0m_update_class_log_prior\u001b[0m\u001b[1;33m(\u001b[0m\u001b[0mself\u001b[0m\u001b[1;33m,\u001b[0m \u001b[0mclass_prior\u001b[0m\u001b[1;33m=\u001b[0m\u001b[1;32mNone\u001b[0m\u001b[1;33m)\u001b[0m\u001b[1;33m:\u001b[0m\u001b[1;33m\u001b[0m\u001b[1;33m\u001b[0m\u001b[0m\n",
      "\u001b[1;32m~\\anaconda3\\lib\\site-packages\\sklearn\\base.py\u001b[0m in \u001b[0;36m_validate_data\u001b[1;34m(self, X, y, reset, validate_separately, **check_params)\u001b[0m\n\u001b[0;32m    579\u001b[0m                 \u001b[0my\u001b[0m \u001b[1;33m=\u001b[0m \u001b[0mcheck_array\u001b[0m\u001b[1;33m(\u001b[0m\u001b[0my\u001b[0m\u001b[1;33m,\u001b[0m \u001b[1;33m**\u001b[0m\u001b[0mcheck_y_params\u001b[0m\u001b[1;33m)\u001b[0m\u001b[1;33m\u001b[0m\u001b[1;33m\u001b[0m\u001b[0m\n\u001b[0;32m    580\u001b[0m             \u001b[1;32melse\u001b[0m\u001b[1;33m:\u001b[0m\u001b[1;33m\u001b[0m\u001b[1;33m\u001b[0m\u001b[0m\n\u001b[1;32m--> 581\u001b[1;33m                 \u001b[0mX\u001b[0m\u001b[1;33m,\u001b[0m \u001b[0my\u001b[0m \u001b[1;33m=\u001b[0m \u001b[0mcheck_X_y\u001b[0m\u001b[1;33m(\u001b[0m\u001b[0mX\u001b[0m\u001b[1;33m,\u001b[0m \u001b[0my\u001b[0m\u001b[1;33m,\u001b[0m \u001b[1;33m**\u001b[0m\u001b[0mcheck_params\u001b[0m\u001b[1;33m)\u001b[0m\u001b[1;33m\u001b[0m\u001b[1;33m\u001b[0m\u001b[0m\n\u001b[0m\u001b[0;32m    582\u001b[0m             \u001b[0mout\u001b[0m \u001b[1;33m=\u001b[0m \u001b[0mX\u001b[0m\u001b[1;33m,\u001b[0m \u001b[0my\u001b[0m\u001b[1;33m\u001b[0m\u001b[1;33m\u001b[0m\u001b[0m\n\u001b[0;32m    583\u001b[0m \u001b[1;33m\u001b[0m\u001b[0m\n",
      "\u001b[1;32m~\\anaconda3\\lib\\site-packages\\sklearn\\utils\\validation.py\u001b[0m in \u001b[0;36mcheck_X_y\u001b[1;34m(X, y, accept_sparse, accept_large_sparse, dtype, order, copy, force_all_finite, ensure_2d, allow_nd, multi_output, ensure_min_samples, ensure_min_features, y_numeric, estimator)\u001b[0m\n\u001b[0;32m    962\u001b[0m         \u001b[1;32mraise\u001b[0m \u001b[0mValueError\u001b[0m\u001b[1;33m(\u001b[0m\u001b[1;34m\"y cannot be None\"\u001b[0m\u001b[1;33m)\u001b[0m\u001b[1;33m\u001b[0m\u001b[1;33m\u001b[0m\u001b[0m\n\u001b[0;32m    963\u001b[0m \u001b[1;33m\u001b[0m\u001b[0m\n\u001b[1;32m--> 964\u001b[1;33m     X = check_array(\n\u001b[0m\u001b[0;32m    965\u001b[0m         \u001b[0mX\u001b[0m\u001b[1;33m,\u001b[0m\u001b[1;33m\u001b[0m\u001b[1;33m\u001b[0m\u001b[0m\n\u001b[0;32m    966\u001b[0m         \u001b[0maccept_sparse\u001b[0m\u001b[1;33m=\u001b[0m\u001b[0maccept_sparse\u001b[0m\u001b[1;33m,\u001b[0m\u001b[1;33m\u001b[0m\u001b[1;33m\u001b[0m\u001b[0m\n",
      "\u001b[1;32m~\\anaconda3\\lib\\site-packages\\sklearn\\utils\\validation.py\u001b[0m in \u001b[0;36mcheck_array\u001b[1;34m(array, accept_sparse, accept_large_sparse, dtype, order, copy, force_all_finite, ensure_2d, allow_nd, ensure_min_samples, ensure_min_features, estimator)\u001b[0m\n\u001b[0;32m    744\u001b[0m                     \u001b[0marray\u001b[0m \u001b[1;33m=\u001b[0m \u001b[0marray\u001b[0m\u001b[1;33m.\u001b[0m\u001b[0mastype\u001b[0m\u001b[1;33m(\u001b[0m\u001b[0mdtype\u001b[0m\u001b[1;33m,\u001b[0m \u001b[0mcasting\u001b[0m\u001b[1;33m=\u001b[0m\u001b[1;34m\"unsafe\"\u001b[0m\u001b[1;33m,\u001b[0m \u001b[0mcopy\u001b[0m\u001b[1;33m=\u001b[0m\u001b[1;32mFalse\u001b[0m\u001b[1;33m)\u001b[0m\u001b[1;33m\u001b[0m\u001b[1;33m\u001b[0m\u001b[0m\n\u001b[0;32m    745\u001b[0m                 \u001b[1;32melse\u001b[0m\u001b[1;33m:\u001b[0m\u001b[1;33m\u001b[0m\u001b[1;33m\u001b[0m\u001b[0m\n\u001b[1;32m--> 746\u001b[1;33m                     \u001b[0marray\u001b[0m \u001b[1;33m=\u001b[0m \u001b[0mnp\u001b[0m\u001b[1;33m.\u001b[0m\u001b[0masarray\u001b[0m\u001b[1;33m(\u001b[0m\u001b[0marray\u001b[0m\u001b[1;33m,\u001b[0m \u001b[0morder\u001b[0m\u001b[1;33m=\u001b[0m\u001b[0morder\u001b[0m\u001b[1;33m,\u001b[0m \u001b[0mdtype\u001b[0m\u001b[1;33m=\u001b[0m\u001b[0mdtype\u001b[0m\u001b[1;33m)\u001b[0m\u001b[1;33m\u001b[0m\u001b[1;33m\u001b[0m\u001b[0m\n\u001b[0m\u001b[0;32m    747\u001b[0m             \u001b[1;32mexcept\u001b[0m \u001b[0mComplexWarning\u001b[0m \u001b[1;32mas\u001b[0m \u001b[0mcomplex_warning\u001b[0m\u001b[1;33m:\u001b[0m\u001b[1;33m\u001b[0m\u001b[1;33m\u001b[0m\u001b[0m\n\u001b[0;32m    748\u001b[0m                 raise ValueError(\n",
      "\u001b[1;32m~\\anaconda3\\lib\\site-packages\\numpy\\core\\_asarray.py\u001b[0m in \u001b[0;36masarray\u001b[1;34m(a, dtype, order, like)\u001b[0m\n\u001b[0;32m    100\u001b[0m         \u001b[1;32mreturn\u001b[0m \u001b[0m_asarray_with_like\u001b[0m\u001b[1;33m(\u001b[0m\u001b[0ma\u001b[0m\u001b[1;33m,\u001b[0m \u001b[0mdtype\u001b[0m\u001b[1;33m=\u001b[0m\u001b[0mdtype\u001b[0m\u001b[1;33m,\u001b[0m \u001b[0morder\u001b[0m\u001b[1;33m=\u001b[0m\u001b[0morder\u001b[0m\u001b[1;33m,\u001b[0m \u001b[0mlike\u001b[0m\u001b[1;33m=\u001b[0m\u001b[0mlike\u001b[0m\u001b[1;33m)\u001b[0m\u001b[1;33m\u001b[0m\u001b[1;33m\u001b[0m\u001b[0m\n\u001b[0;32m    101\u001b[0m \u001b[1;33m\u001b[0m\u001b[0m\n\u001b[1;32m--> 102\u001b[1;33m     \u001b[1;32mreturn\u001b[0m \u001b[0marray\u001b[0m\u001b[1;33m(\u001b[0m\u001b[0ma\u001b[0m\u001b[1;33m,\u001b[0m \u001b[0mdtype\u001b[0m\u001b[1;33m,\u001b[0m \u001b[0mcopy\u001b[0m\u001b[1;33m=\u001b[0m\u001b[1;32mFalse\u001b[0m\u001b[1;33m,\u001b[0m \u001b[0morder\u001b[0m\u001b[1;33m=\u001b[0m\u001b[0morder\u001b[0m\u001b[1;33m)\u001b[0m\u001b[1;33m\u001b[0m\u001b[1;33m\u001b[0m\u001b[0m\n\u001b[0m\u001b[0;32m    103\u001b[0m \u001b[1;33m\u001b[0m\u001b[0m\n\u001b[0;32m    104\u001b[0m \u001b[1;33m\u001b[0m\u001b[0m\n",
      "\u001b[1;32m~\\anaconda3\\lib\\site-packages\\pandas\\core\\series.py\u001b[0m in \u001b[0;36m__array__\u001b[1;34m(self, dtype)\u001b[0m\n\u001b[0;32m    855\u001b[0m               dtype='datetime64[ns]')\n\u001b[0;32m    856\u001b[0m         \"\"\"\n\u001b[1;32m--> 857\u001b[1;33m         \u001b[1;32mreturn\u001b[0m \u001b[0mnp\u001b[0m\u001b[1;33m.\u001b[0m\u001b[0masarray\u001b[0m\u001b[1;33m(\u001b[0m\u001b[0mself\u001b[0m\u001b[1;33m.\u001b[0m\u001b[0m_values\u001b[0m\u001b[1;33m,\u001b[0m \u001b[0mdtype\u001b[0m\u001b[1;33m)\u001b[0m\u001b[1;33m\u001b[0m\u001b[1;33m\u001b[0m\u001b[0m\n\u001b[0m\u001b[0;32m    858\u001b[0m \u001b[1;33m\u001b[0m\u001b[0m\n\u001b[0;32m    859\u001b[0m     \u001b[1;31m# ----------------------------------------------------------------------\u001b[0m\u001b[1;33m\u001b[0m\u001b[1;33m\u001b[0m\u001b[0m\n",
      "\u001b[1;32m~\\anaconda3\\lib\\site-packages\\numpy\\core\\_asarray.py\u001b[0m in \u001b[0;36masarray\u001b[1;34m(a, dtype, order, like)\u001b[0m\n\u001b[0;32m    100\u001b[0m         \u001b[1;32mreturn\u001b[0m \u001b[0m_asarray_with_like\u001b[0m\u001b[1;33m(\u001b[0m\u001b[0ma\u001b[0m\u001b[1;33m,\u001b[0m \u001b[0mdtype\u001b[0m\u001b[1;33m=\u001b[0m\u001b[0mdtype\u001b[0m\u001b[1;33m,\u001b[0m \u001b[0morder\u001b[0m\u001b[1;33m=\u001b[0m\u001b[0morder\u001b[0m\u001b[1;33m,\u001b[0m \u001b[0mlike\u001b[0m\u001b[1;33m=\u001b[0m\u001b[0mlike\u001b[0m\u001b[1;33m)\u001b[0m\u001b[1;33m\u001b[0m\u001b[1;33m\u001b[0m\u001b[0m\n\u001b[0;32m    101\u001b[0m \u001b[1;33m\u001b[0m\u001b[0m\n\u001b[1;32m--> 102\u001b[1;33m     \u001b[1;32mreturn\u001b[0m \u001b[0marray\u001b[0m\u001b[1;33m(\u001b[0m\u001b[0ma\u001b[0m\u001b[1;33m,\u001b[0m \u001b[0mdtype\u001b[0m\u001b[1;33m,\u001b[0m \u001b[0mcopy\u001b[0m\u001b[1;33m=\u001b[0m\u001b[1;32mFalse\u001b[0m\u001b[1;33m,\u001b[0m \u001b[0morder\u001b[0m\u001b[1;33m=\u001b[0m\u001b[0morder\u001b[0m\u001b[1;33m)\u001b[0m\u001b[1;33m\u001b[0m\u001b[1;33m\u001b[0m\u001b[0m\n\u001b[0m\u001b[0;32m    103\u001b[0m \u001b[1;33m\u001b[0m\u001b[0m\n\u001b[0;32m    104\u001b[0m \u001b[1;33m\u001b[0m\u001b[0m\n",
      "\u001b[1;31mValueError\u001b[0m: could not convert string to float: 'Classic burger was fantastic! The shareable sweet potato fries are really shareable portions. Atmosphere was chill. Would visit again!'"
     ]
    }
   ],
   "source": [
    "# Approach #2 - Naive Bayes using Scikit-learn\n",
    "from sklearn.model_selection import train_test_split\n",
    "from sklearn.naive_bayes import MultinomialNB\n",
    "#le = preprocessing.LabelEncoder()\n",
    "\n",
    "X_train, X_test, y_train, y_test = train_test_split(X, y, test_size=0.3, random_state=101)\n",
    "nb = MultinomialNB()\n",
    "nb.fit(X_train, y_train)\n"
   ]
  },
  {
   "cell_type": "code",
   "execution_count": 50,
   "id": "26c1d67e",
   "metadata": {},
   "outputs": [
    {
     "data": {
      "text/plain": [
       "<bound method NDFrame.head of 0        I bought a Fender 1966 Telecaster that the sal...\n",
       "1        This is our go to for take out when I visit my...\n",
       "2        Danielle did a great job!  She listened and cu...\n",
       "3        We saw a lot of roaches in the bathroom when w...\n",
       "4        We  Ordered pork fried rice and beef chow mei ...\n",
       "                               ...                        \n",
       "31660    Just average Thai food tonight. Bangkok has al...\n",
       "31661    Great gym.  Was in Indy for 4 days on business...\n",
       "31662    It is very rare for a restaurant to be this go...\n",
       "31663    We redesigned my moms dress and mad it complet...\n",
       "31664    For when I'm feeling like ignoring my calorie-...\n",
       "Name: text, Length: 31665, dtype: object>"
      ]
     },
     "execution_count": 50,
     "metadata": {},
     "output_type": "execute_result"
    }
   ],
   "source": [
    "X.head"
   ]
  },
  {
   "cell_type": "markdown",
   "id": "bc96389e",
   "metadata": {},
   "source": [
    "Notes/Thoughts\n",
    "review length in words vs rating\n",
    "how many reviews\n",
    "when are reviews\n"
   ]
  }
 ],
 "metadata": {
  "kernelspec": {
   "display_name": "Python 3 (ipykernel)",
   "language": "python",
   "name": "python3"
  },
  "language_info": {
   "codemirror_mode": {
    "name": "ipython",
    "version": 3
   },
   "file_extension": ".py",
   "mimetype": "text/x-python",
   "name": "python",
   "nbconvert_exporter": "python",
   "pygments_lexer": "ipython3",
   "version": "3.9.7"
  }
 },
 "nbformat": 4,
 "nbformat_minor": 5
}
