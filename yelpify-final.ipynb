{
 "cells": [
  {
   "cell_type": "code",
   "execution_count": 1,
   "id": "055756bb",
   "metadata": {},
   "outputs": [],
   "source": [
    "# Set up imports and libraries\n",
    "import matplotlib.pyplot as plt\n",
    "import seaborn as sns\n",
    "\n",
    "from sklearn.feature_extraction.text import CountVectorizer\n",
    "from sklearn.model_selection import train_test_split\n",
    "from sklearn.naive_bayes import MultinomialNB\n",
    "from sklearn.metrics import confusion_matrix,classification_report\n",
    "from sklearn.feature_extraction.text import  TfidfTransformer\n",
    "from sklearn.pipeline import Pipeline\n",
    "import string\n",
    "import pandas as pd\n",
    "from nltk.corpus import stopwords\n",
    "\n",
    "\n",
    "import nltk\n",
    "#nltk.download('punkt')"
   ]
  },
  {
   "cell_type": "code",
   "execution_count": 2,
   "id": "33dba976",
   "metadata": {},
   "outputs": [],
   "source": [
    "#import the review data set\n",
    "import numpy as np\n",
    "import pandas as pd\n",
    "yelp_reviews = []\n",
    "r_dtypes = {\"stars\": np.float16, \n",
    "            \"useful\": np.int32, \n",
    "            \"funny\": np.int32,\n",
    "            \"cool\": np.int32,\n",
    "           }\n",
    "with open(\"yelp_academic_dataset_review.json\", \"r\", encoding='utf8') as f:\n",
    "    reader = pd.read_json(f, orient=\"records\", lines=True, \n",
    "                          dtype=r_dtypes, chunksize=1000)\n",
    "        \n",
    "    for chunk in reader:\n",
    "        reduced_chunk = chunk.drop(columns=['review_id', 'user_id'])\\\n",
    "                             .query(\"`date` >= '2022-01-01'\")\n",
    "        yelp_reviews.append(reduced_chunk)\n",
    "    \n",
    "yelp_reviews = pd.concat(yelp_reviews, ignore_index=True)\n",
    "#yelp_reviews.describe #80k rows for 12/1/21; 31665  for 2022-01-01"
   ]
  },
  {
   "cell_type": "code",
   "execution_count": null,
   "id": "123ef363",
   "metadata": {},
   "outputs": [],
   "source": [
    "# import business dataset\n",
    "import pandas as pd\n",
    "yelp_busn = []\n",
    "r_dtypes = {\"stars\": np.float16, \n",
    "            \"latitude\": np.int32, \n",
    "            \"longitude\": np.int32,\n",
    "           }\n",
    "with open(\"yelp_academic_dataset_business.json\", \"r\", encoding='utf8') as f:\n",
    "    reader = pd.read_json(f, orient=\"records\", lines=True, \n",
    "                          dtype=r_dtypes, chunksize=1000)\n",
    "        \n",
    "    for chunk in reader:\n",
    "        reduced_chunk = chunk.drop(columns=['is_open', 'longitude','latitude','hours'])\\\n",
    "                             .query(\"`city` >= 'philadelphia'\")\n",
    "        yelp_busn.append(reduced_chunk)\n",
    "    \n",
    "yelp_busn = pd.concat(yelp_busn, ignore_index=True)\n",
    "#yelp_busn.describe"
   ]
  },
  {
   "cell_type": "code",
   "execution_count": 3,
   "id": "887538a9",
   "metadata": {},
   "outputs": [
    {
     "data": {
      "text/html": [
       "<div>\n",
       "<style scoped>\n",
       "    .dataframe tbody tr th:only-of-type {\n",
       "        vertical-align: middle;\n",
       "    }\n",
       "\n",
       "    .dataframe tbody tr th {\n",
       "        vertical-align: top;\n",
       "    }\n",
       "\n",
       "    .dataframe thead th {\n",
       "        text-align: right;\n",
       "    }\n",
       "</style>\n",
       "<table border=\"1\" class=\"dataframe\">\n",
       "  <thead>\n",
       "    <tr style=\"text-align: right;\">\n",
       "      <th></th>\n",
       "      <th>business_id</th>\n",
       "      <th>stars</th>\n",
       "      <th>useful</th>\n",
       "      <th>funny</th>\n",
       "      <th>cool</th>\n",
       "      <th>text</th>\n",
       "      <th>date</th>\n",
       "      <th>text length</th>\n",
       "    </tr>\n",
       "  </thead>\n",
       "  <tbody>\n",
       "    <tr>\n",
       "      <th>0</th>\n",
       "      <td>drTZrkbpSoJgwKETlFbc3w</td>\n",
       "      <td>1.0</td>\n",
       "      <td>0</td>\n",
       "      <td>0</td>\n",
       "      <td>0</td>\n",
       "      <td>I bought a Fender 1966 Telecaster that the sal...</td>\n",
       "      <td>2022-01-01 15:47:07</td>\n",
       "      <td>641</td>\n",
       "    </tr>\n",
       "    <tr>\n",
       "      <th>1</th>\n",
       "      <td>jyxHti29yWdYR00Itt1A2w</td>\n",
       "      <td>5.0</td>\n",
       "      <td>0</td>\n",
       "      <td>0</td>\n",
       "      <td>0</td>\n",
       "      <td>This is our go to for take out when I visit my...</td>\n",
       "      <td>2022-01-02 03:49:01</td>\n",
       "      <td>208</td>\n",
       "    </tr>\n",
       "    <tr>\n",
       "      <th>2</th>\n",
       "      <td>Jo4ei-c-5H53IxZxAVf1jQ</td>\n",
       "      <td>5.0</td>\n",
       "      <td>0</td>\n",
       "      <td>0</td>\n",
       "      <td>0</td>\n",
       "      <td>Danielle did a great job!  She listened and cu...</td>\n",
       "      <td>2022-01-03 03:17:03</td>\n",
       "      <td>278</td>\n",
       "    </tr>\n",
       "    <tr>\n",
       "      <th>3</th>\n",
       "      <td>YT5CjacTllBtvMaMJS3IbA</td>\n",
       "      <td>1.0</td>\n",
       "      <td>0</td>\n",
       "      <td>0</td>\n",
       "      <td>0</td>\n",
       "      <td>We saw a lot of roaches in the bathroom when w...</td>\n",
       "      <td>2022-01-05 15:55:59</td>\n",
       "      <td>514</td>\n",
       "    </tr>\n",
       "    <tr>\n",
       "      <th>4</th>\n",
       "      <td>9MHe5jAym2d8VhT_NbCRyw</td>\n",
       "      <td>2.0</td>\n",
       "      <td>0</td>\n",
       "      <td>0</td>\n",
       "      <td>0</td>\n",
       "      <td>We  Ordered pork fried rice and beef chow mei ...</td>\n",
       "      <td>2022-01-06 03:59:21</td>\n",
       "      <td>148</td>\n",
       "    </tr>\n",
       "  </tbody>\n",
       "</table>\n",
       "</div>"
      ],
      "text/plain": [
       "              business_id  stars  useful  funny  cool  \\\n",
       "0  drTZrkbpSoJgwKETlFbc3w    1.0       0      0     0   \n",
       "1  jyxHti29yWdYR00Itt1A2w    5.0       0      0     0   \n",
       "2  Jo4ei-c-5H53IxZxAVf1jQ    5.0       0      0     0   \n",
       "3  YT5CjacTllBtvMaMJS3IbA    1.0       0      0     0   \n",
       "4  9MHe5jAym2d8VhT_NbCRyw    2.0       0      0     0   \n",
       "\n",
       "                                                text                date  \\\n",
       "0  I bought a Fender 1966 Telecaster that the sal... 2022-01-01 15:47:07   \n",
       "1  This is our go to for take out when I visit my... 2022-01-02 03:49:01   \n",
       "2  Danielle did a great job!  She listened and cu... 2022-01-03 03:17:03   \n",
       "3  We saw a lot of roaches in the bathroom when w... 2022-01-05 15:55:59   \n",
       "4  We  Ordered pork fried rice and beef chow mei ... 2022-01-06 03:59:21   \n",
       "\n",
       "   text length  \n",
       "0          641  \n",
       "1          208  \n",
       "2          278  \n",
       "3          514  \n",
       "4          148  "
      ]
     },
     "execution_count": 3,
     "metadata": {},
     "output_type": "execute_result"
    }
   ],
   "source": [
    "# append text length of review\n",
    "yelp_reviews.describe\n",
    "yelp_reviews['text length'] = yelp_reviews['text'].apply(len)\n",
    "yelp_reviews.head()"
   ]
  },
  {
   "cell_type": "code",
   "execution_count": 4,
   "id": "3843cf02",
   "metadata": {},
   "outputs": [],
   "source": [
    "# Data Pre Processing\n",
    "# 1. Remove Stop Words\n",
    "# 2. Stem\n",
    "# 3. Tokenize\n",
    "# 4. Counts\n",
    "# 5. Replace smileies?\n",
    "\n",
    "#does not filter to restaurants - need business dataset\n",
    "\n",
    "#createa dataset without 3 stars since those are neutral\n",
    "yelp_data = yelp_reviews[(yelp_reviews['stars'] > 3) | (yelp_reviews['stars'] < 3)]\n",
    "X = pd.DataFrame(yelp_data['text'])\n",
    "Y = pd.DataFrame(yelp_data['stars'])"
   ]
  },
  {
   "cell_type": "code",
   "execution_count": 5,
   "id": "8e0e0d55",
   "metadata": {},
   "outputs": [],
   "source": [
    "#1 Remove stop words - Done\n",
    "def process_text(text):\n",
    "    nopunc = [char for char in text if char not in string.punctuation]\n",
    "    nopunc = ''.join(nopunc)\n",
    "    return [word for word in nopunc.split() if word.lower() not in stopwords.words('english')]\n",
    "X['text'] = X['text'].apply(process_text)"
   ]
  },
  {
   "cell_type": "code",
   "execution_count": 6,
   "id": "9f0ddfb4",
   "metadata": {},
   "outputs": [],
   "source": [
    "# 2 Stem - - for X instead of test set (takes long time)\n",
    "from nltk.stem.snowball import SnowballStemmer\n",
    "snowBallStemmer = SnowballStemmer(\"english\")\n",
    "X['stemmed'] = X['text'].apply(lambda x: [snowBallStemmer.stem(y) for y in x]) # Stem every word.\n",
    "X = X.drop(columns=['text']) # Get rid of the unstemmed column."
   ]
  },
  {
   "cell_type": "code",
   "execution_count": 7,
   "id": "afe1c2ca",
   "metadata": {},
   "outputs": [],
   "source": [
    "# 3. Tokenize data to turn words into integers for modeling\n",
    "cv = CountVectorizer() #stop_words=my_stop_words, ngram_range=(2,2\n",
    "X['stemmed']=[\" \".join(review) for review in X['stemmed'].values] #convert from list to text\n",
    "X_cv = cv.fit_transform(X['stemmed'])"
   ]
  },
  {
   "cell_type": "code",
   "execution_count": null,
   "id": "cc68f4d8",
   "metadata": {},
   "outputs": [],
   "source": [
    "bigram_df = pd.DataFrame(X_cv.toarray(), columns=cv.get_feature_names_out())\n",
    "bigram_frequency = pd.DataFrame(bigram_df.sum(axis=0)).reset_index()\n",
    "bigram_frequency.columns = ['bigram', 'frequency']\n",
    "bigram_frequency = bigram_frequency.sort_values(by='frequency', ascending=False).head(10)\n",
    "plt.bar(bigram_frequency['bigram'],bigram_frequency['frequency'])"
   ]
  },
  {
   "cell_type": "code",
   "execution_count": 8,
   "id": "21bd468e",
   "metadata": {},
   "outputs": [
    {
     "name": "stdout",
     "output_type": "stream",
     "text": [
      "Shape of Sparse Matrix:  (29482, 33942)\n",
      "Amount of Non-Zero occurrences:  1162659\n",
      "Density: 0.11618712002039289\n"
     ]
    }
   ],
   "source": [
    "#X_cv\n",
    "print('Shape of Sparse Matrix: ', X_cv.shape)\n",
    "print('Amount of Non-Zero occurrences: ', X_cv.nnz)\n",
    "# Percentage of non-zero values\n",
    "density = (100.0 * X_cv.nnz / (X_cv.shape[0] * X_cv.shape[1]))\n",
    "print(\"Density: {}\".format((density)))\n",
    "\n",
    "#graphics\n",
    "#wordcloud failed\n",
    "#reviews over time\n",
    "#dist of star ratings\n",
    "#length fo text for ratings\n",
    "#avg monthly rtating\n",
    "#Xhead('text'.most_common(20),columns=['Word', 'Frequency'])"
   ]
  },
  {
   "cell_type": "code",
   "execution_count": 10,
   "id": "579edd87",
   "metadata": {},
   "outputs": [
    {
     "name": "stdout",
     "output_type": "stream",
     "text": [
      "[[1649   90  100  116]\n",
      " [ 268   44  172   96]\n",
      " [  78    5  453  755]\n",
      " [ 334    5  322 4358]]\n",
      "\n",
      "\n",
      "              precision    recall  f1-score   support\n",
      "\n",
      "         1.0       0.71      0.84      0.77      1955\n",
      "         2.0       0.31      0.08      0.12       580\n",
      "         4.0       0.43      0.35      0.39      1291\n",
      "         5.0       0.82      0.87      0.84      5019\n",
      "\n",
      "    accuracy                           0.74      8845\n",
      "   macro avg       0.57      0.53      0.53      8845\n",
      "weighted avg       0.70      0.74      0.71      8845\n",
      "\n"
     ]
    },
    {
     "name": "stderr",
     "output_type": "stream",
     "text": [
      "C:\\Users\\mcdc9\\anaconda3\\lib\\site-packages\\sklearn\\utils\\validation.py:993: DataConversionWarning: A column-vector y was passed when a 1d array was expected. Please change the shape of y to (n_samples, ), for example using ravel().\n",
      "  y = column_or_1d(y, warn=True)\n"
     ]
    }
   ],
   "source": [
    "# set up nb model and run predictions\n",
    "X_train, X_test, y_train, y_test = train_test_split(X_cv, Y,test_size=0.3,random_state=101)\n",
    "nb = MultinomialNB()\n",
    "nb.fit(X_train,y_train)\n",
    "\n",
    "predictions = nb.predict(X_test)\n",
    "print(confusion_matrix(y_test,predictions))\n",
    "print('\\n')\n",
    "print(classification_report(y_test,predictions))"
   ]
  },
  {
   "cell_type": "code",
   "execution_count": 11,
   "id": "8f1f5367",
   "metadata": {},
   "outputs": [
    {
     "data": {
      "text/plain": [
       "0       -0.0516\n",
       "1        0.6369\n",
       "2        0.8625\n",
       "3        0.7269\n",
       "4        0.5106\n",
       "          ...  \n",
       "31660    0.0083\n",
       "31661    0.8750\n",
       "31662    0.9300\n",
       "31663    0.7003\n",
       "31664    0.9978\n",
       "Name: stemmed, Length: 29482, dtype: float64"
      ]
     },
     "execution_count": 11,
     "metadata": {},
     "output_type": "execute_result"
    }
   ],
   "source": [
    "#nltk.download('vader_lexicon')\n",
    "# Load SentimentIntensityAnalyzer\n",
    "from nltk.sentiment.vader import SentimentIntensityAnalyzer\n",
    "# Instantiate new SentimentIntensityAnalyzer\n",
    "sid = SentimentIntensityAnalyzer()\n",
    "# Generate sentiment scores\n",
    "sentiment_scores = X['stemmed'].apply(sid.polarity_scores)\n",
    "sentiment = sentiment_scores.apply(lambda x: x['compound']) #get compound score\n",
    "sentiment\n",
    "#could graph over time"
   ]
  }
 ],
 "metadata": {
  "kernelspec": {
   "display_name": "Python 3 (ipykernel)",
   "language": "python",
   "name": "python3"
  },
  "language_info": {
   "codemirror_mode": {
    "name": "ipython",
    "version": 3
   },
   "file_extension": ".py",
   "mimetype": "text/x-python",
   "name": "python",
   "nbconvert_exporter": "python",
   "pygments_lexer": "ipython3",
   "version": "3.9.7"
  }
 },
 "nbformat": 4,
 "nbformat_minor": 5
}
